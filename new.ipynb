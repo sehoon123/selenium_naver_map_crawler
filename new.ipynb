{
 "cells": [
  {
   "cell_type": "code",
   "execution_count": 222,
   "metadata": {},
   "outputs": [],
   "source": [
    "import time\n",
    "from selenium import webdriver\n",
    "from selenium.webdriver.common.keys import Keys\n",
    "from selenium.webdriver.common.by import By\n",
    "from selenium.webdriver.support.ui import WebDriverWait\n",
    "from selenium.webdriver.support import expected_conditions as EC\n",
    "from time import sleep\n",
    "from bs4 import BeautifulSoup\n",
    "import re\n",
    "import json\n"
   ]
  },
  {
   "cell_type": "code",
   "execution_count": 223,
   "metadata": {},
   "outputs": [],
   "source": [
    "url = 'https://map.naver.com/v5/search'\n",
    "\n",
    "# options = webdriver.ChromeOptions()\n",
    "# options.add_argument('headless')\n",
    "driver = webdriver.Chrome()  # 드라이버 경로\n",
    "# driver = webdriver.Chrome('./chromedriver',chrome_options=options) # 크롬창 숨기기\n",
    "driver.get(url)\n",
    "key_word = '강남카페'  # 검색어\n",
    "\n",
    "# css 찾을때 까지 10초대기\n",
    "def time_wait(num, code):\n",
    "    try:\n",
    "        wait = WebDriverWait(driver, num).until(\n",
    "            EC.presence_of_element_located((By.CSS_SELECTOR, code)))\n",
    "    except:\n",
    "        print(code, '태그를 찾지 못하였습니다.')\n",
    "        driver.quit()\n",
    "    return wait\n",
    "\n",
    "\n",
    "# css를 찾을때 까지 10초 대기\n",
    "time_wait(10, 'div.input_box > input.input_search')\n",
    "\n",
    "# 검색창 찾기\n",
    "search = driver.find_element_by_css_selector('div.input_box > input.input_search')\n",
    "search.send_keys(key_word)  # 검색어 입력\n",
    "search.send_keys(Keys.ENTER)  # 엔터버튼 누르기\n",
    "\n",
    "res = driver.page_source  # 페이지 소스 가져오기\n",
    "soup = BeautifulSoup(res, 'html.parser')  # html 파싱하여  가져온다\n",
    "\n",
    "sleep(1)"
   ]
  },
  {
   "cell_type": "code",
   "execution_count": 224,
   "metadata": {},
   "outputs": [],
   "source": [
    "# frame 변경 메소드\n",
    "def switch_frame(frame):\n",
    "    driver.switch_to.default_content()  # frame 초기화\n",
    "    driver.switch_to.frame(frame)  # frame 변경\n",
    "    res\n",
    "    soup\n",
    "\n",
    "\n",
    "# 페이지 다운\n",
    "def page_down(num):\n",
    "    body = driver.find_element_by_css_selector('body')\n",
    "    body.click()\n",
    "    for i in range(num):\n",
    "        body.send_keys(Keys.PAGE_DOWN)"
   ]
  },
  {
   "cell_type": "code",
   "execution_count": 225,
   "metadata": {},
   "outputs": [
    {
     "name": "stdout",
     "output_type": "stream",
     "text": [
      "54\n",
      "[크롤링 시작...]\n"
     ]
    }
   ],
   "source": [
    "# frame 변경\n",
    "switch_frame('searchIframe')\n",
    "page_down(40)\n",
    "sleep(5)\n",
    "\n",
    "# 매장 리스트\n",
    "store_list = driver.find_elements_by_css_selector('.N_KDL')\n",
    "\n",
    "print(len(store_list))\n",
    "\n",
    "print('[크롤링 시작...]')"
   ]
  },
  {
   "cell_type": "code",
   "execution_count": 226,
   "metadata": {},
   "outputs": [
    {
     "name": "stdout",
     "output_type": "stream",
     "text": [
      "45\n",
      "구테로이테\n",
      "46\n",
      "폴인팬케이크 강남점\n",
      "47\n",
      "기욤 청담점\n",
      "48\n",
      "이디야커피랩\n",
      "49\n",
      "그랜드 인터컨티넨탈 서울 파르나스 로비 라운지 & 바\n",
      "50\n",
      "누데이크 하우스 도산\n",
      "51\n",
      "마일드하이클럽\n",
      "52\n",
      "플르서라구뜨\n",
      "53\n",
      "카페413프로젝트\n"
     ]
    }
   ],
   "source": [
    "# 상세페이지로 이동\n",
    "# pages = driver.find_elements_by_css_selector('.CHC5F > a')\n",
    "page = driver.find_elements_by_css_selector('.place_bluelink.TYaxT')\n",
    "for i in range(0,len(page)):\n",
    "    print(i)\n",
    "    page[i].click()\n",
    "    time.sleep(1)\n",
    "    switch_frame('entryIframe')\n",
    "    time.sleep(1)\n",
    "    # 음식점 이름 가져오기\n",
    "    shop_name = driver.find_element_by_css_selector('.Fc1rA').text\n",
    "    print(shop_name)\n",
    "    time.sleep(3)\n",
    "    # 리뷰페이지 접속\n",
    "    driver.find_element_by_css_selector('.PXMot > a').click()\n",
    "    time.sleep(3)\n",
    "    # 리뷰페이지 끝까지 스크롤\n",
    "    for _ in range(10):\n",
    "        try:\n",
    "            # 더보기 클릭\n",
    "            driver.find_element_by_css_selector('.fvwqf').click()\n",
    "            time.sleep(0.1)\n",
    "        except:\n",
    "            pass\n",
    "    # 내용 더보기 버튼\n",
    "    openbox = driver.find_elements_by_css_selector('.Ky28p')\n",
    "    for i in openbox:\n",
    "        try:\n",
    "            i.click()\n",
    "            time.sleep(0.02)\n",
    "        except:\n",
    "            pass\n",
    "    # 리뷰들 가져오기\n",
    "    reviews = driver.find_elements_by_css_selector('.YeINN')\n",
    "    time.sleep(1)\n",
    "    # print(len(reviews))\n",
    "\n",
    "    # 리뷰 csv 파일로 저장\n",
    "    for review in reviews:\n",
    "        try:\n",
    "            id = review.find_element_by_css_selector('.sBWyy').text\n",
    "            content = review.find_element_by_css_selector('.zPfVt').text\n",
    "            time.sleep(0.1)\n",
    "            with open('./result.csv', 'a', encoding='utf-8') as f:\n",
    "                f.write(shop_name + ', ' +id + ', ' + content + '\\n')\n",
    "            time.sleep(0.1)\n",
    "            \n",
    "            \n",
    "        except:\n",
    "            pass\n",
    "    \n",
    "    switch_frame('searchIframe')"
   ]
  },
  {
   "cell_type": "code",
   "execution_count": null,
   "metadata": {},
   "outputs": [],
   "source": []
  },
  {
   "cell_type": "code",
   "execution_count": null,
   "metadata": {},
   "outputs": [],
   "source": []
  },
  {
   "cell_type": "code",
   "execution_count": null,
   "metadata": {},
   "outputs": [],
   "source": []
  },
  {
   "cell_type": "code",
   "execution_count": null,
   "metadata": {},
   "outputs": [],
   "source": []
  },
  {
   "cell_type": "code",
   "execution_count": null,
   "metadata": {},
   "outputs": [],
   "source": []
  }
 ],
 "metadata": {
  "kernelspec": {
   "display_name": "Python 3.10.8 64-bit",
   "language": "python",
   "name": "python3"
  },
  "language_info": {
   "codemirror_mode": {
    "name": "ipython",
    "version": 3
   },
   "file_extension": ".py",
   "mimetype": "text/x-python",
   "name": "python",
   "nbconvert_exporter": "python",
   "pygments_lexer": "ipython3",
   "version": "3.10.8"
  },
  "orig_nbformat": 4,
  "vscode": {
   "interpreter": {
    "hash": "b0fa6594d8f4cbf19f97940f81e996739fb7646882a419484c72d19e05852a7e"
   }
  }
 },
 "nbformat": 4,
 "nbformat_minor": 2
}
